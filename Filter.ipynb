{
  "nbformat": 4,
  "nbformat_minor": 0,
  "metadata": {
    "colab": {
      "provenance": []
    },
    "kernelspec": {
      "name": "python3",
      "display_name": "Python 3"
    },
    "language_info": {
      "name": "python"
    }
  },
  "cells": [
    {
      "cell_type": "code",
      "execution_count": 3,
      "metadata": {
        "id": "ROEo_CpWnn1R",
        "colab": {
          "base_uri": "https://localhost:8080/"
        },
        "outputId": "1fe48cee-79e5-41d7-a8c0-d84fb7bcc099"
      },
      "outputs": [
        {
          "output_type": "stream",
          "name": "stdout",
          "text": [
            "Drive already mounted at /content/drive; to attempt to forcibly remount, call drive.mount(\"/content/drive\", force_remount=True).\n"
          ]
        }
      ],
      "source": [
        "from google.colab import drive\n",
        "\n",
        "drive.mount('/content/drive')"
      ]
    },
    {
      "cell_type": "code",
      "source": [
        "import pandas as pd\n",
        "import numpy as np\n",
        "import re\n",
        "import os\n",
        "\n",
        "def filter_data(input_file_path, output_file_path,keyword,affirm_report,order_report_table,reg_report):\n",
        "    \n",
        "    for file in os.listdir(input_file_path):\n",
        "        dataFrame= pd.read_csv(os.path.join(input_file_path, file))\n",
        "        # select rows containing text \"Affirm\"\n",
        "        data_filtered = dataFrame.loc[dataFrame['DESCRIPTION'].str.contains(keyword),['DATE', 'DESCRIPTION', 'RECEIVED']]\n",
        "        # data_filtered.to_csv(os.path.join(output_file_path, file), index = False)\n",
        "\n",
        "        #split the decription\n",
        "        new =data_filtered.DESCRIPTION.str.split(expand=True)\n",
        "        data_filtered['DEPOSIT_ID']=new[15]\n",
        "        data_filtered.drop(columns =[\"DESCRIPTION\"], inplace = True)\n",
        "        data_filtered['DESCRIPTION']=new[3]+' '+new[4]\n",
        "\n",
        "        # split the deposit id\n",
        "        new_id=data_filtered.DEPOSIT_ID.str.split(\":\",expand=True)\n",
        "        data_filtered.drop(columns =[\"DEPOSIT_ID\"], inplace = True)\n",
        "        data_filtered['DEPOSIT_ID']=new_id[1]\n",
        "      \n",
        "        #read the affirm report file\n",
        "        data_report=pd.read_csv(affirm_report)\n",
        "        data_report.rename(columns = {'deposit_id':'DEPOSIT_ID'}, inplace = True)\n",
        "  \n",
        "        #combine two csv files based on DEPOSIT ID\n",
        "        df = pd.merge(data_filtered, data_report,on=\"DEPOSIT_ID\")\n",
        "        # print(df.to_string())\n",
        "        df.rename(columns = {'RECEIVED':'BANK AMOUNT'}, inplace = True)\n",
        "        df.rename(columns = {'order_id':'ORDER'}, inplace = True)\n",
        "        df['FEE']=df['fees']+df['txn_fees']\n",
        "        df['ORDER']=df['ORDER'].astype(str)\n",
        "\n",
        "        #read the order report table\n",
        "        report_table=pd.read_csv(order_report_table)\n",
        "        report_table.rename(columns = {'Order_Number':'ORDER'}, inplace = True)\n",
        "        #covert the object type to float\n",
        "        report_table['Item_Price']=report_table['Item_Price'].apply(lambda x: float(x.split()[0].replace(',', '')))\n",
        "        report_table['Item_Discount']=report_table['Item_Discount'].apply(lambda x: float(x.split()[0].replace(',', '')))\n",
        "       \n",
        "        #combine report table to df\n",
        "        data_table=pd.merge(df,report_table,on='ORDER')\n",
        "        data_table.rename(columns = {'Item_Price':'PRICE'}, inplace = True) # rename columns\n",
        "        data_table.rename(columns = {'Item_Discount':'DISCOUNT'}, inplace = True) # rename columns\n",
        "        data_table.rename(columns = {'Order_Date':'QBO DATE'}, inplace = True) # rename columns\n",
        "        data_table['QBO Description']=data_table['ORDER']\n",
        "        data_table['INCOME']=data_table['PRICE']\n",
        "\n",
        "        #add new columns\n",
        "        data_table['PRICE']=data_table['PRICE'].astype(float)\n",
        "        data_table['DISCOUNT']=data_table['DISCOUNT'].astype(float)\n",
        "        data_table['NET AMOUNT']=data_table['PRICE']+data_table['FEE']+data_table['DISCOUNT']\n",
        "        \n",
        "        #add a new columns check by comparing two columns\n",
        "        data_table['CHECK']=np.where((data_table['NET AMOUNT'] == data_table['total_settled']), 'Correct', 'Incorrect')\n",
        "        # print(data_table.to_string())\n",
        "\n",
        "        #compare the result with registration report to get coursemonth\n",
        "        registr_report=pd.read_csv(reg_report)\n",
        "        output_data=data_table[['DATE', 'DESCRIPTION','BANK AMOUNT','PRICE','FEE','DISCOUNT','NET AMOUNT','total_settled','CHECK','ORDER','QBO DATE','QBO Description','INCOME']].copy()\n",
        "        print(registr_report)\n",
        "        #convert the output to csv file\n",
        "        # output_data.to_csv('affirm_summary.csv', encoding = 'utf-8-sig') \n",
        "        # report='affirm_summary.csv'\n",
        "        # output_data.to_csv(os.path.join(output_file_path,report), index = False) \n",
        "        \n",
        "    "
      ],
      "metadata": {
        "id": "TO6tpOpbv3EL"
      },
      "execution_count": 5,
      "outputs": []
    },
    {
      "cell_type": "code",
      "source": [
        "filter_data('/content/drive/MyDrive/Colab Notebooks/input_file_path','/content/drive/MyDrive/Colab Notebooks/output_file_path','AFFIRM','/content/drive/MyDrive/Affirm Testing/Affirm_Report_0123.csv','/content/drive/MyDrive/Affirm Testing/order_report_Jan22_Jan23.csv','/content/drive/MyDrive/Colab Notebooks/registration_report_Dec22 _Jan23  - Sheet1.csv')\n"
      ],
      "metadata": {
        "id": "alfh0h-y51K9",
        "colab": {
          "base_uri": "https://localhost:8080/"
        },
        "outputId": "c2cbe65d-9bd5-49dc-c642-6aef428d3b5d"
      },
      "execution_count": 6,
      "outputs": [
        {
          "output_type": "stream",
          "name": "stdout",
          "text": [
            "     Sale Date Registered Date    Order id     Attribute Name  \\\n",
            "0   01-12-2022      01-12-2022  1000039446      B2C Classroom   \n",
            "1   02-12-2022      02-12-2022  1000039501  Virtual Classroom   \n",
            "2   02-12-2022      02-12-2022  1000039502             Online   \n",
            "3   02-12-2022      02-12-2022  1000039505      B2C Classroom   \n",
            "4   02-12-2022      02-12-2022  1000039511             Online   \n",
            "..         ...             ...         ...                ...   \n",
            "59  30-01-2023      30-01-2023  1000045752      B2C Classroom   \n",
            "60  30-01-2023      30-01-2023  1000045754      B2C Classroom   \n",
            "61  30-01-2023      30-01-2023  1000045755      B2C Classroom   \n",
            "62  31-01-2023      31-01-2023  1000045791      B2C Classroom   \n",
            "63  31-01-2023      31-01-2023  1000045808             Online   \n",
            "\n",
            "                         Delegate Name        Session ID  \\\n",
            "0   Diana Test - Please disregard Test    OPST3016041023   \n",
            "1                        Jamil Ahmadov  OPST3016041023-V   \n",
            "2           Christian Adrian Friedrich          FIPR0146   \n",
            "3                    Rohan Borkar Test    RISK1007062623   \n",
            "4                        Ross Anderson         IBCO2019x   \n",
            "..                                 ...               ...   \n",
            "59                          General QA    MANA3000051523   \n",
            "60                    Melvin Hettinger    MANA3000051523   \n",
            "61             Candace Testing Testing    FIMK2002071023   \n",
            "62             Christophertest Hantest    CIBA1000041723   \n",
            "63                        George Amash         TRAD0501x   \n",
            "\n",
            "                                         Session Name  \\\n",
            "0   Corporate Treasury Management | New York | 202...   \n",
            "1   Corporate Treasury Management | Virtual | 2023...   \n",
            "2             Introduction to the Hedge Fund Industry   \n",
            "3   Risk Management Professional Certificate | New...   \n",
            "4            Investment Banking Certification: Online   \n",
            "..                                                ...   \n",
            "59  Mergers & Acquisitions Professional Certificat...   \n",
            "60  Mergers & Acquisitions Professional Certificat...   \n",
            "61  Fixed Income Professional Certificate | New Yo...   \n",
            "62  Chartered Investment Banking Analystâ„¢ | New ...   \n",
            "63  Trading - Fundamentals of Technical Analysis: ...   \n",
            "\n",
            "                             Country  Qty       Price Discount Shipping  \\\n",
            "0                  New York New York    1   $1,989.00    $0.00    $0.00   \n",
            "1   Brussels Brussels-Capital Region    1   $1,989.00    $0.00    $0.00   \n",
            "2                    MÃ¼nchen Bayern    1     $299.00    $0.00    $0.00   \n",
            "3          Rancho Cordova California    1   $3,519.20    $0.00    $0.00   \n",
            "4               St. Charles Missouri    1     $289.00    $0.00    $0.00   \n",
            "..                               ...  ...         ...      ...      ...   \n",
            "59             Baton Rouge Louisiana    1   $3,499.00    $0.00    $0.00   \n",
            "60         Sterling Heights Michigan    1   $3,499.00    $0.00    $0.00   \n",
            "61                 New York New York    1   $3,519.20    $0.00    $0.00   \n",
            "62               Fort Lee New Jersey    1  $16,395.00    $0.00    $0.00   \n",
            "63             Grand Rapids Michigan    1     $299.00    $0.00    $0.00   \n",
            "\n",
            "      Tax Adjust       Total  \n",
            "0   $0.00  $0.00   $1,989.00  \n",
            "1   $0.00  $0.00   $1,989.00  \n",
            "2   $0.00  $0.00     $299.00  \n",
            "3   $0.00  $0.00   $3,519.20  \n",
            "4   $0.00  $0.00     $289.00  \n",
            "..    ...    ...         ...  \n",
            "59  $0.00  $0.00   $3,499.00  \n",
            "60  $0.00  $0.00   $3,499.00  \n",
            "61  $0.00  $0.00   $3,519.20  \n",
            "62  $0.00  $0.00  $16,395.00  \n",
            "63  $0.00  $0.00     $299.00  \n",
            "\n",
            "[64 rows x 15 columns]\n"
          ]
        }
      ]
    }
  ]
}
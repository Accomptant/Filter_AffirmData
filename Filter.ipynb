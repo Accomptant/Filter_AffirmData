{
  "nbformat": 4,
  "nbformat_minor": 0,
  "metadata": {
    "colab": {
      "provenance": []
    },
    "kernelspec": {
      "name": "python3",
      "display_name": "Python 3"
    },
    "language_info": {
      "name": "python"
    }
  },
  "cells": [
    {
      "cell_type": "code",
      "execution_count": 3,
      "metadata": {
        "colab": {
          "base_uri": "https://localhost:8080/"
        },
        "id": "ROEo_CpWnn1R",
        "outputId": "c59c786a-560d-4856-b0e3-94b87be21994"
      },
      "outputs": [
        {
          "output_type": "stream",
          "name": "stdout",
          "text": [
            "Mounted at /content/drive\n"
          ]
        }
      ],
      "source": [
        "from google.colab import drive\n",
        "\n",
        "drive.mount('/content/drive')"
      ]
    },
    {
      "cell_type": "code",
      "source": [
        "import pandas as pd\n",
        "import re\n",
        "import os\n",
        "\n",
        "def filter_data(input_file_path, output_file_path,keyword,affirm_report,order_report_table):\n",
        "    \n",
        "    for file in os.listdir(input_file_path):\n",
        "        dataFrame= pd.read_csv(os.path.join(input_file_path, file))\n",
        "        # select rows containing text \"Affirm\"\n",
        "        data_filtered = dataFrame.loc[dataFrame['DESCRIPTION'].str.contains(keyword),['DATE', 'DESCRIPTION', 'RECEIVED']]\n",
        "        # data_filtered.to_csv(os.path.join(output_file_path, file), index = False)\n",
        "\n",
        "        #split the decription\n",
        "        new =data_filtered.DESCRIPTION.str.split(expand=True)\n",
        "        data_filtered['DEPOSIT_ID']=new[15]\n",
        "        data_filtered.drop(columns =[\"DESCRIPTION\"], inplace = True)\n",
        "        data_filtered['DESCRIPTION']=new[3]+' '+new[4]\n",
        "\n",
        "        # split the deposit id\n",
        "        new_id=data_filtered.DEPOSIT_ID.str.split(\":\",expand=True)\n",
        "        data_filtered.drop(columns =[\"DEPOSIT_ID\"], inplace = True)\n",
        "        data_filtered['DEPOSIT_ID']=new_id[1]\n",
        "      \n",
        "        #read the affirm report file\n",
        "        data_report=pd.read_csv(affirm_report)\n",
        "        data_report.rename(columns = {'deposit_id':'DEPOSIT_ID'}, inplace = True)\n",
        "  \n",
        "        #combine two csv files based on DEPOSIT ID\n",
        "        df = pd.merge(data_filtered, data_report,on=\"DEPOSIT_ID\")\n",
        "        # print(df.to_string())\n",
        "        df.rename(columns = {'RECEIVED':'BANK AMOUNT'}, inplace = True)\n",
        "        df.rename(columns = {'order_id':'ORDER'}, inplace = True)\n",
        "        df['FEE']=df['fees']+df['txn_fees']\n",
        "        df['ORDER']=df['ORDER'].astype(str)\n",
        "\n",
        "        #read the order report table\n",
        "        report_table=pd.read_csv(order_report_table)\n",
        "        report_table.rename(columns = {'Order_Number':'ORDER'}, inplace = True)\n",
        "       \n",
        "        #combine report table to df\n",
        "        data_table=pd.merge(df,report_table,on='ORDER')\n",
        "        data_table.rename(columns = {'Item_Price':'PRICE'}, inplace = True) # rename columns\n",
        "        data_table.rename(columns = {'Item_Discount':'DISCOUNT'}, inplace = True)\n",
        "\n",
        "        #add new columns\n",
        "        data_table['NET AMOUNT']=None\n",
        "        data_table['CHECK']=None\n",
        "\n",
        "        print(data_table.to_string())\n",
        "        # output_data=df[['DATE', 'DESCRIPTION','BANK AMOUNT','total_settled','ORDER','FEE']].copy()\n",
        "        # print(output_data)\n",
        "        #convert the output to csv file\n",
        "        # output_data.to_csv('affirm_summary.csv', encoding = 'utf-8-sig') \n",
        "        # report='affirm_summary.csv'\n",
        "        # output_data.to_csv(os.path.join(output_file_path,report), index = False) \n",
        "        \n",
        "    "
      ],
      "metadata": {
        "id": "TO6tpOpbv3EL"
      },
      "execution_count": 40,
      "outputs": []
    },
    {
      "cell_type": "code",
      "source": [
        "filter_data('/content/drive/MyDrive/Colab Notebooks/input_file_path','/content/drive/MyDrive/Colab Notebooks/output_file_path','AFFIRM','/content/drive/MyDrive/Affirm Testing/Affirm_Report_0123.csv','/content/drive/MyDrive/Affirm Testing/order_report_Jan22_Jan23.csv')\n"
      ],
      "metadata": {
        "id": "alfh0h-y51K9"
      },
      "execution_count": null,
      "outputs": []
    }
  ]
}
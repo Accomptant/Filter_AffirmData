{
  "nbformat": 4,
  "nbformat_minor": 0,
  "metadata": {
    "colab": {
      "provenance": []
    },
    "kernelspec": {
      "name": "python3",
      "display_name": "Python 3"
    },
    "language_info": {
      "name": "python"
    }
  },
  "cells": [
    {
      "cell_type": "code",
      "execution_count": 26,
      "metadata": {
        "colab": {
          "base_uri": "https://localhost:8080/"
        },
        "id": "ROEo_CpWnn1R",
        "outputId": "31b9f5c1-3993-4281-dc44-86c67731be27"
      },
      "outputs": [
        {
          "output_type": "stream",
          "name": "stdout",
          "text": [
            "Drive already mounted at /content/drive; to attempt to forcibly remount, call drive.mount(\"/content/drive\", force_remount=True).\n"
          ]
        }
      ],
      "source": [
        "from google.colab import drive\n",
        "\n",
        "drive.mount('/content/drive')"
      ]
    },
    {
      "cell_type": "code",
      "source": [
        "import pandas as pd\n",
        "import re\n",
        "import os\n",
        "\n",
        "def filter_data(input_file_path, output_file_path,keyword):\n",
        "    for file in os.listdir(input_file_path):\n",
        "        dataFrame= pd.read_csv(os.path.join(input_file_path, file))\n",
        "        # select rows containing text \"Affirm\"\n",
        "        data_filtered = dataFrame.loc[dataFrame['DESCRIPTION'].str.contains(keyword),['DATE', 'DESCRIPTION', 'RECEIVED']]\n",
        "        # data_filtered.to_csv(os.path.join(output_file_path, file), index = False)\n",
        "\n",
        "        #split the decription\n",
        "        new =data_filtered.DESCRIPTION.str.split(expand=True)\n",
        "        data_filtered['DEPOSIT_ID']=new[15]\n",
        "        data_filtered.drop(columns =[\"DESCRIPTION\"], inplace = True)\n",
        "        data_filtered['DESCRIPTION']=new[3]+' '+new[4]\n",
        "\n",
        "        # split the deposit id\n",
        "        new_id=data_filtered.DEPOSIT_ID.str.split(\":\",expand=True)\n",
        "        data_filtered.drop(columns =[\"DEPOSIT_ID\"], inplace = True)\n",
        "        data_filtered['DEPOSIT_ID']=new_id[1]\n",
        "        \n",
        "        print(data_filtered)\n",
        "        \n",
        "    "
      ],
      "metadata": {
        "id": "TO6tpOpbv3EL"
      },
      "execution_count": 124,
      "outputs": []
    },
    {
      "cell_type": "code",
      "source": [
        "filter_data('/content/drive/MyDrive/Colab Notebooks/input_file_path','/content/drive/MyDrive/Colab Notebooks/output_path','AFFIRM')\n"
      ],
      "metadata": {
        "id": "alfh0h-y51K9"
      },
      "execution_count": null,
      "outputs": []
    }
  ]
}
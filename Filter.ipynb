{
  "nbformat": 4,
  "nbformat_minor": 0,
  "metadata": {
    "colab": {
      "provenance": []
    },
    "kernelspec": {
      "name": "python3",
      "display_name": "Python 3"
    },
    "language_info": {
      "name": "python"
    }
  },
  "cells": [
    {
      "cell_type": "code",
      "execution_count": 26,
      "metadata": {
        "colab": {
          "base_uri": "https://localhost:8080/"
        },
        "id": "ROEo_CpWnn1R",
        "outputId": "31b9f5c1-3993-4281-dc44-86c67731be27"
      },
      "outputs": [
        {
          "output_type": "stream",
          "name": "stdout",
          "text": [
            "Drive already mounted at /content/drive; to attempt to forcibly remount, call drive.mount(\"/content/drive\", force_remount=True).\n"
          ]
        }
      ],
      "source": [
        "from google.colab import drive\n",
        "\n",
        "drive.mount('/content/drive')"
      ]
    },
    {
      "cell_type": "code",
      "source": [
        "import pandas as pd\n",
        "import re\n",
        "import os\n",
        "\n",
        "def filter_data(input_file_path, output_file_path,keyword,affirm_report):\n",
        "    for file in os.listdir(input_file_path):\n",
        "        dataFrame= pd.read_csv(os.path.join(input_file_path, file))\n",
        "        # select rows containing text \"Affirm\"\n",
        "        data_filtered = dataFrame.loc[dataFrame['DESCRIPTION'].str.contains(keyword),['DATE', 'DESCRIPTION', 'RECEIVED']]\n",
        "        # data_filtered.to_csv(os.path.join(output_file_path, file), index = False)\n",
        "\n",
        "        #split the decription\n",
        "        new =data_filtered.DESCRIPTION.str.split(expand=True)\n",
        "        data_filtered['DEPOSIT_ID']=new[15]\n",
        "        data_filtered.drop(columns =[\"DESCRIPTION\"], inplace = True)\n",
        "        data_filtered['DESCRIPTION']=new[3]+' '+new[4]\n",
        "\n",
        "        # split the deposit id\n",
        "        new_id=data_filtered.DEPOSIT_ID.str.split(\":\",expand=True)\n",
        "        data_filtered.drop(columns =[\"DEPOSIT_ID\"], inplace = True)\n",
        "        data_filtered['DEPOSIT_ID']=new_id[1]\n",
        "        \n",
        "        data_report=pd.read_csv(affirm_report)\n",
        "        data_report.rename(columns = {'deposit_id':'DEPOSIT_ID'}, inplace = True)\n",
        "        # print(data_report)\n",
        "\n",
        "        df = pd.merge(data_filtered, data_report,on=\"DEPOSIT_ID\")\n",
        "        # print(df.to_string())\n",
        "        output_data=df[['DATE', 'DESCRIPTION','RECEIVED','total_settled','order_id']].copy()\n",
        "        # print(output_data)\n",
        "        output_data.to_csv('affirm_summary.csv', encoding = 'utf-8-sig') \n",
        "        report='affirm_summary.csv'\n",
        "        output_data.to_csv(os.path.join(output_file_path,report), index = False)\n",
        "        \n",
        "    "
      ],
      "metadata": {
        "id": "TO6tpOpbv3EL"
      },
      "execution_count": 50,
      "outputs": []
    },
    {
      "cell_type": "code",
      "source": [
        "filter_data('/content/drive/MyDrive/Colab Notebooks/input_file_path','/content/drive/MyDrive/Colab Notebooks/output_path','AFFIRM','/content/drive/MyDrive/Affirm Testing/Affirm_Report_0123.csv')\n"
      ],
      "metadata": {
        "id": "alfh0h-y51K9"
      },
      "execution_count": 51,
      "outputs": []
    }
  ]
}
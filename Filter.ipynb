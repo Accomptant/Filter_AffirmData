{
  "nbformat": 4,
  "nbformat_minor": 0,
  "metadata": {
    "colab": {
      "provenance": []
    },
    "kernelspec": {
      "name": "python3",
      "display_name": "Python 3"
    },
    "language_info": {
      "name": "python"
    }
  },
  "cells": [
    {
      "cell_type": "code",
      "execution_count": 2,
      "metadata": {
        "id": "ROEo_CpWnn1R",
        "colab": {
          "base_uri": "https://localhost:8080/"
        },
        "outputId": "cc25dd8b-795f-4095-b644-887f85b730fc"
      },
      "outputs": [
        {
          "output_type": "stream",
          "name": "stdout",
          "text": [
            "Mounted at /content/drive\n"
          ]
        }
      ],
      "source": [
        "from google.colab import drive\n",
        "\n",
        "drive.mount('/content/drive')"
      ]
    },
    {
      "cell_type": "code",
      "source": [
        "import pandas as pd\n",
        "import numpy as np\n",
        "import re\n",
        "import os\n",
        "\n",
        "def filter_data(input_file_path, output_file_path,keyword,affirm_report,order_report_table,reg_report):\n",
        "    \n",
        "    for file in os.listdir(input_file_path):\n",
        "        dataFrame= pd.read_csv(os.path.join(input_file_path, file))\n",
        "        # select rows containing text \"Affirm\"\n",
        "        data_filtered = dataFrame.loc[dataFrame['DESCRIPTION'].str.contains(keyword),['DATE', 'DESCRIPTION', 'RECEIVED']]\n",
        "        # data_filtered.to_csv(os.path.join(output_file_path, file), index = False)\n",
        "\n",
        "        #split the decription\n",
        "        new =data_filtered.DESCRIPTION.str.split(expand=True)\n",
        "        data_filtered['DEPOSIT_ID']=new[15]\n",
        "        data_filtered.drop(columns =[\"DESCRIPTION\"], inplace = True)\n",
        "        data_filtered['DESCRIPTION']=new[3]+' '+new[4]\n",
        "\n",
        "        # split the deposit id\n",
        "        new_id=data_filtered.DEPOSIT_ID.str.split(\":\",expand=True)\n",
        "        data_filtered.drop(columns =[\"DEPOSIT_ID\"], inplace = True)\n",
        "        data_filtered['DEPOSIT_ID']=new_id[1]\n",
        "      \n",
        "        #read the affirm report file\n",
        "        data_report=pd.read_csv(affirm_report)\n",
        "        data_report.rename(columns = {'deposit_id':'DEPOSIT_ID'}, inplace = True)\n",
        "  \n",
        "        #combine two csv files based on DEPOSIT ID\n",
        "        df = pd.merge(data_filtered, data_report,on=\"DEPOSIT_ID\")\n",
        "        # print(df.to_string())\n",
        "        df.rename(columns = {'RECEIVED':'BANK AMOUNT'}, inplace = True)\n",
        "        df.rename(columns = {'order_id':'ORDER'}, inplace = True)\n",
        "        df['FEE']=df['fees']+df['txn_fees']\n",
        "        df['ORDER']=df['ORDER'].astype(str)\n",
        "\n",
        "        #read the order report table\n",
        "        report_table=pd.read_csv(order_report_table)\n",
        "        report_table.rename(columns = {'Order_Number':'ORDER'}, inplace = True)\n",
        "        #covert the object type to float\n",
        "        report_table['Item_Price']=report_table['Item_Price'].apply(lambda x: float(x.split()[0].replace(',', '')))\n",
        "        report_table['Item_Discount']=report_table['Item_Discount'].apply(lambda x: float(x.split()[0].replace(',', '')))\n",
        "       \n",
        "        #combine report table to df\n",
        "        data_table=pd.merge(df,report_table,on='ORDER')\n",
        "        data_table.rename(columns = {'Item_Price':'PRICE'}, inplace = True) # rename columns\n",
        "        data_table.rename(columns = {'Item_Discount':'DISCOUNT'}, inplace = True) # rename columns\n",
        "        data_table.rename(columns = {'Order_Date':'QBO DATE'}, inplace = True) # rename columns\n",
        "        data_table['QBO Description']=data_table['ORDER']\n",
        "        data_table['INCOME']=data_table['PRICE']\n",
        "\n",
        "        #add new columns\n",
        "        data_table['PRICE']=data_table['PRICE'].astype(float)\n",
        "        data_table['DISCOUNT']=data_table['DISCOUNT'].astype(float)\n",
        "        data_table['NET AMOUNT']=data_table['PRICE']+data_table['FEE']+data_table['DISCOUNT']\n",
        "        \n",
        "        #add a new columns check by comparing two columns\n",
        "        data_table['CHECK']=np.where((data_table['NET AMOUNT'] == data_table['total_settled']), 'Correct', 'Incorrect')\n",
        "        # print(data_table.to_string())\n",
        "\n",
        "        #compare the result with registration report to get coursemonth\n",
        "        registr_report=pd.read_csv(reg_report)\n",
        "        output_data=data_table[['DATE', 'DESCRIPTION','BANK AMOUNT','PRICE','FEE','DISCOUNT','NET AMOUNT','total_settled','CHECK','ORDER','QBO DATE','QBO Description','INCOME']].copy()\n",
        "        print(registr_report)\n",
        "        #convert the output to csv file\n",
        "        # output_data.to_csv('affirm_summary.csv', encoding = 'utf-8-sig') \n",
        "        # report='affirm_summary.csv'\n",
        "        # output_data.to_csv(os.path.join(output_file_path,report), index = False) \n",
        "        \n",
        "    "
      ],
      "metadata": {
        "id": "TO6tpOpbv3EL"
      },
      "execution_count": 9,
      "outputs": []
    },
    {
      "cell_type": "code",
      "source": [
        "filter_data('/content/drive/MyDrive/Colab Notebooks/input_file_path','/content/drive/MyDrive/Colab Notebooks/output_file_path','AFFIRM','/content/drive/MyDrive/Affirm Testing/Affirm_Report_0123.csv','/content/drive/MyDrive/Affirm Testing/order_report_Jan22_Jan23.csv','/content/drive/MyDrive/Colab Notebooks/registration_report_Dec22 _Jan23 (1).xls - registration_report_Dec22 _Jan23 (1).xls.csv')\n"
      ],
      "metadata": {
        "id": "alfh0h-y51K9",
        "colab": {
          "base_uri": "https://localhost:8080/"
        },
        "outputId": "5880555c-0725-4338-e48a-644d11dcf6f9"
      },
      "execution_count": 10,
      "outputs": [
        {
          "output_type": "stream",
          "name": "stdout",
          "text": [
            "     <table id=\"example\" border=\"1\" cellspacing=\"0\" width=\"100%\"> Unnamed: 1  \\\n",
            "0                                               <thead>                  NaN   \n",
            "1                                                   NaN                  NaN   \n",
            "2                                                  <tr>                  NaN   \n",
            "3                                                   NaN                  NaN   \n",
            "4     <th>Sale Date</th> \\t <th>Registered Date</th>...            Name</th>   \n",
            "...                                                 ...                  ...   \n",
            "1031        <td style=\"text-align: right;\">$299.00</td>                  NaN   \n",
            "1032  <td style=\"text-align: right;\">$0.00</td> <td ...                  NaN   \n",
            "1033        <td style=\"text-align: right;\">$299.00</td>                  NaN   \n",
            "1034                                              </tr>                  NaN   \n",
            "1035                                   </tbody></table>                  NaN   \n",
            "\n",
            "            Unnamed: 2    Unnamed: 3      Unnamed: 4         Unnamed: 5  \\\n",
            "0                  NaN           NaN             NaN                NaN   \n",
            "1                  NaN           NaN             NaN                NaN   \n",
            "2                  NaN           NaN             NaN                NaN   \n",
            "3                  NaN           NaN             NaN                NaN   \n",
            "4     <th>Country</th>  <th>Qty</th>  <th>Price</th>  <th>Discount</th>   \n",
            "...                ...           ...             ...                ...   \n",
            "1031               NaN           NaN             NaN                NaN   \n",
            "1032               NaN           NaN             NaN                NaN   \n",
            "1033               NaN           NaN             NaN                NaN   \n",
            "1034               NaN           NaN             NaN                NaN   \n",
            "1035               NaN           NaN             NaN                NaN   \n",
            "\n",
            "             Unnamed: 6    Unnamed: 7       Unnamed: 8      Unnamed: 9  \n",
            "0                   NaN           NaN              NaN             NaN  \n",
            "1                   NaN           NaN              NaN             NaN  \n",
            "2                   NaN           NaN              NaN             NaN  \n",
            "3                   NaN           NaN              NaN             NaN  \n",
            "4     <th>Shipping</th>  <th>Tax</th>  <th>Adjust</th>  <th>Total</th>  \n",
            "...                 ...           ...              ...             ...  \n",
            "1031                NaN           NaN              NaN             NaN  \n",
            "1032                NaN           NaN              NaN             NaN  \n",
            "1033                NaN           NaN              NaN             NaN  \n",
            "1034                NaN           NaN              NaN             NaN  \n",
            "1035                NaN           NaN              NaN             NaN  \n",
            "\n",
            "[1036 rows x 10 columns]\n"
          ]
        }
      ]
    }
  ]
}